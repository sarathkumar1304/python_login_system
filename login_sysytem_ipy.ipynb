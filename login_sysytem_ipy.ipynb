{
  "nbformat": 4,
  "nbformat_minor": 0,
  "metadata": {
    "colab": {
      "provenance": [],
      "authorship_tag": "ABX9TyN+8PPpZOW/VANeZJ8lpMCk",
      "include_colab_link": true
    },
    "kernelspec": {
      "name": "python3",
      "display_name": "Python 3"
    },
    "language_info": {
      "name": "python"
    }
  },
  "cells": [
    {
      "cell_type": "markdown",
      "metadata": {
        "id": "view-in-github",
        "colab_type": "text"
      },
      "source": [
        "<a href=\"https://colab.research.google.com/github/sarathkumar1304/python_login_system/blob/main/login_sysytem_ipy.ipynb\" target=\"_parent\"><img src=\"https://colab.research.google.com/assets/colab-badge.svg\" alt=\"Open In Colab\"/></a>"
      ]
    },
    {
      "cell_type": "markdown",
      "source": [
        "## Email Validation"
      ],
      "metadata": {
        "id": "8wXOjAKQibVJ"
      }
    },
    {
      "cell_type": "code",
      "source": [
        "import re\n",
        "\n",
        "def validate_email(email):\n",
        "    pattern = r'^[a-zA-Z0-9]+[._]?[a-zA-Z0-9]+[@]\\w+[.]\\w{2,3}$'\n",
        "    return re.match(pattern, email)"
      ],
      "metadata": {
        "id": "I09RdK4Hm6o5"
      },
      "execution_count": 13,
      "outputs": []
    },
    {
      "cell_type": "markdown",
      "source": [
        "## Password Validation"
      ],
      "metadata": {
        "id": "_B8kf_MBimyl"
      }
    },
    {
      "cell_type": "code",
      "source": [
        "def validate_password(password):\n",
        "  sp_ch=0\n",
        "  one_d=0\n",
        "  one_up=0\n",
        "  one_lo=0\n",
        "  for i in password:                     #checking for one special character \n",
        "    if(i.isalpha() or i.isnumeric()):\n",
        "      pass\n",
        "    else:\n",
        "      sp_ch+=1\n",
        "      break\n",
        "  for i in password:                     #checking for one numeric or one digit\n",
        "    if(i.isnumeric()):\n",
        "      one_d+=1\n",
        "      break\n",
        "  for i in password:                     #checking for one upper case letter\n",
        "    if(i.isupper()):\n",
        "      one_up+=1\n",
        "      break\n",
        "  for i in password:                     #checking for one lower case letter\n",
        "    if(i.islower()):\n",
        "      one_lo+=1\n",
        "      break\n",
        "  if (len(password)>5 and len(password)<16 and sp_ch==1 and one_d==1 and one_up==1 and one_lo==1):\n",
        "        print( \"Password sucess\")\n",
        "        return password\n",
        "  else:\n",
        "        print(\"Must have minimum \\nOne special character \\nOne digit \\nOne uppercase \\nOne lowercase character \\nWith length greater than 5 and less than 16\")\n",
        "        validate_password()\n",
        "#validate_password()\n",
        "\n",
        "\n",
        "def forgot_password():\n",
        "    email = input(\"Enter your email/username: \")\n",
        "\n",
        "    with open(\"users.txt\", \"r\") as f:\n",
        "        for line in f:\n",
        "            stored_email, stored_password = line.strip().split(\",\")\n",
        "            if email == stored_email:\n",
        "                print(f\"Your password is: {stored_password}\")\n",
        "                return\n",
        "    print(\"Invalid email/username\")\n",
        "\n",
        "while True:\n",
        "    choice = input(\"Enter 1 to register\\nEnter 2 to login\\nEnter 3 to exit: \")\n",
        "    if choice == \"1\":\n",
        "        register()\n",
        "    elif choice == \"2\":\n",
        "        login()\n",
        "    elif choice == \"3\":\n",
        "        break\n",
        "    else:\n",
        "        print(\"Invalid choice\")\n",
        "\n",
        "    forgot_password_choice = input(\"Forgot password? (y/n): \")\n"
      ],
      "metadata": {
        "colab": {
          "base_uri": "https://localhost:8080/"
        },
        "id": "8TLudbvHmB-h",
        "outputId": "e8c0672c-4838-433d-dfd6-b13124bb054d"
      },
      "execution_count": 12,
      "outputs": [
        {
          "name": "stdout",
          "output_type": "stream",
          "text": [
            "Enter 1 to register\n",
            "Enter 2 to login\n",
            "Enter 3 to exit: 1\n",
            "Enter your email/username: Sarathkumar@gmail.com\n",
            "Enter your password: Sarath1304n@3y\n",
            "Registration successful\n",
            "Forgot password? (y/n): n\n",
            "Enter 1 to register\n",
            "Enter 2 to login\n",
            "Enter 3 to exit: 3\n"
          ]
        }
      ]
    },
    {
      "cell_type": "code",
      "source": [
        "def register():\n",
        "    email = input(\"Enter your email: \")\n",
        "    password = input(\"Enter your password: \")\n",
        "\n",
        "    if not validate_email(email):\n",
        "        print(\"Invalid email/username\")\n",
        "        return\n",
        "\n",
        "    if not validate_password(password):\n",
        "        print(\"Invalid password\")\n",
        "        return\n",
        "\n",
        "    with open(\"users.txt\", \"a\") as f:\n",
        "        f.write(f\"{email},{password}\\n\")\n",
        "\n",
        "    print(\"Registration successful\")\n",
        "register()"
      ],
      "metadata": {
        "colab": {
          "base_uri": "https://localhost:8080/"
        },
        "id": "G3a_U9B_npST",
        "outputId": "582bfab3-8ddc-4072-a30f-bb92c3f48ccf"
      },
      "execution_count": 17,
      "outputs": [
        {
          "output_type": "stream",
          "name": "stdout",
          "text": [
            "Enter your email: sarathkumar@gmail.com\n",
            "Enter your password: SAra1304n@\n",
            "Registration successful\n"
          ]
        }
      ]
    },
    {
      "cell_type": "code",
      "source": [
        "def login():\n",
        "    email = input(\"Enter your email/username: \")\n",
        "    password = input(\"Enter your password: \")\n",
        "\n",
        "    with open(\"users.txt\", \"r\") as f:\n",
        "        for line in f:\n",
        "            stored_email, stored_password = line.strip().split(\",\")\n",
        "            if email == stored_email and password == stored_password:\n",
        "                print(\"Login successful\")\n",
        "                return\n",
        "    print(\"Invalid email/username or password\")\n",
        "login()"
      ],
      "metadata": {
        "colab": {
          "base_uri": "https://localhost:8080/"
        },
        "id": "WFhuBMqWoPJh",
        "outputId": "00e05b95-98d8-4db5-e009-0810a6d27287"
      },
      "execution_count": 18,
      "outputs": [
        {
          "output_type": "stream",
          "name": "stdout",
          "text": [
            "Enter your email/username: sarathkumar@gmail.com\n",
            "Enter your password: SAra1304n@\n",
            "Login successful\n"
          ]
        }
      ]
    },
    {
      "cell_type": "code",
      "source": [
        "def forgot_password():\n",
        "    email = input(\"Enter your email/username: \")\n",
        "\n",
        "    with open(\"users.txt\", \"r\") as f:\n",
        "        for line in f:\n",
        "            stored_email, stored_password = line.strip().split(\",\")\n",
        "            if email == stored_email:\n",
        "                print(f\"Your password is: {stored_password}\")\n",
        "                return\n",
        "    print(\"Invalid email/username\")\n",
        "forgot_password()"
      ],
      "metadata": {
        "colab": {
          "base_uri": "https://localhost:8080/"
        },
        "id": "023HuGjto0Jg",
        "outputId": "b482e95b-f5c3-4e88-a52b-cf9fd803c126"
      },
      "execution_count": 23,
      "outputs": [
        {
          "output_type": "stream",
          "name": "stdout",
          "text": [
            "Enter your email/username: sarathkumar@gmail.com\n",
            "Your password is: SAR23rn@\n"
          ]
        }
      ]
    },
    {
      "cell_type": "code",
      "source": [
        "# Prompt the user for their username and email address\n",
        "email = input(\"Enter your email address: \")\n",
        "\n",
        "# Check if the username and email address match any records in the file\n",
        "with open(\"user.txt\", \"r\") as f:\n",
        "    for line in f:\n",
        "        fields = line.strip().split(\",\")\n",
        "        if fields[1] == email:\n",
        "            # Generate a new password for the user\n",
        "            new_password = generate_password()\n",
        "            # Store the new password in the file\n",
        "            line = f\"{fields[0]},{fields[1]},{new_password}\\n\"\n",
        "            # Update the file with the new password\n",
        "            # You'll need to read the entire file, make the change, and then write the entire file back out\n",
        "            # Alternatively, you can write to a new file and then replace the original file with the new one\n",
        "            # I'll leave the implementation details up to you\n",
        "            # ...\n",
        "            # Send an email to the user with their new password\n",
        "            send_email(email, f\"Your new password is: {new_password}\")\n",
        "            print(\"Your new password has been sent to your email address.\")\n",
        "            break\n",
        "    else:\n",
        "        # If there is no match, prompt the user to try again or register a new account\n",
        "        print(\"Invalid username or email address. Please try again or register a new account.\")\n"
      ],
      "metadata": {
        "id": "G8KnW1eTp8cB"
      },
      "execution_count": null,
      "outputs": []
    }
  ]
}