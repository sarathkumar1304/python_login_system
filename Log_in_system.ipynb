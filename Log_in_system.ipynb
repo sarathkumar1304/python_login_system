{
  "nbformat": 4,
  "nbformat_minor": 0,
  "metadata": {
    "colab": {
      "provenance": [],
      "authorship_tag": "ABX9TyPWPOt8nlaUL7ahdYepLLuz",
      "include_colab_link": true
    },
    "kernelspec": {
      "name": "python3",
      "display_name": "Python 3"
    },
    "language_info": {
      "name": "python"
    }
  },
  "cells": [
    {
      "cell_type": "markdown",
      "metadata": {
        "id": "view-in-github",
        "colab_type": "text"
      },
      "source": [
        "<a href=\"https://colab.research.google.com/github/sarathkumar1304/python_login_system/blob/main/Log_in_system.ipynb\" target=\"_parent\"><img src=\"https://colab.research.google.com/assets/colab-badge.svg\" alt=\"Open In Colab\"/></a>"
      ]
    },
    {
      "cell_type": "markdown",
      "source": [
        "# Email validation"
      ],
      "metadata": {
        "id": "sEAtvdVwgOOx"
      }
    },
    {
      "cell_type": "code",
      "source": [
        "def is_valid_email(email):\n",
        "   if('@' in email and '.' in email and email.count('@')==1 and email.count('.')==1 and email[0].isalpha() and email[0].islower() and ((email.index(\".\") - email.index(\"@\"))>=4) and ((len(email)-1)-email.index('.'))==3):\n",
        "     pass\n",
        "     #print(\"valid\")\n",
        "     return email \n",
        "   else:\n",
        "     print(\"Not valid\")\n",
        "#email()\n",
        "    "
      ],
      "metadata": {
        "id": "WxibGCDJuCpu"
      },
      "execution_count": 22,
      "outputs": []
    },
    {
      "cell_type": "markdown",
      "source": [
        "# Password Validation"
      ],
      "metadata": {
        "id": "0RXpdZaN6OCR"
      }
    },
    {
      "cell_type": "code",
      "source": [
        "def is_valid_password(password):\n",
        "  sp_ch=0\n",
        "  one_d=0\n",
        "  one_up=0\n",
        "  one_lo=0\n",
        "  for i in password:                     #checking for one special character \n",
        "    if(i.isalpha() or i.isnumeric()):\n",
        "      pass\n",
        "    else:\n",
        "      sp_ch+=1\n",
        "      break\n",
        "  for i in password:                     #checking for one numeric or one digit\n",
        "    if(i.isnumeric()):\n",
        "      one_d+=1\n",
        "      break\n",
        "  for i in password:                     #checking for one upper case letter\n",
        "    if(i.isupper()):\n",
        "      one_up+=1\n",
        "      break\n",
        "  for i in password:                     #checking for one lower case letter\n",
        "    if(i.islower()):\n",
        "      one_lo+=1\n",
        "      break\n",
        "  if (len(password)>5 and len(password)<16 and sp_ch==1 and one_d==1 and one_up==1 and one_lo==1):\n",
        "        return password\n",
        "  else:\n",
        "        print(\"Must have minimum \\nOne special character \\nOne digit \\nOne uppercase \\nOne lowercase character \\nWith length greater than 5 and less than 16\")\n",
        "        is_valid_password()\n",
        "    "
      ],
      "metadata": {
        "id": "6MEKlKCfuNk0"
      },
      "execution_count": 23,
      "outputs": []
    },
    {
      "cell_type": "markdown",
      "source": [
        "# Function for Registration"
      ],
      "metadata": {
        "id": "KfDqvtWL6bsG"
      }
    },
    {
      "cell_type": "code",
      "source": [
        "def register():\n",
        "    email = input(\"Enter your email: \")\n",
        "    if not is_valid_email(email):\n",
        "        print(\"Invalid email address!\")\n",
        "        return\n",
        "    if email in users:\n",
        "        print(\"Email already registered!\")\n",
        "        return\n",
        "    password = input(\"Enter your password: \")\n",
        "    if not is_valid_password(password):\n",
        "        print(\"Invalid password!\")\n",
        "        return\n",
        "    users[email] = password\n",
        "    with open(\"users.txt\", \"a\") as file:\n",
        "        file.write(f\"{email}:{password}\\n\")\n",
        "    print(\"Registration successful!\")"
      ],
      "metadata": {
        "id": "-BtWiNZG0T6C"
      },
      "execution_count": 24,
      "outputs": []
    },
    {
      "cell_type": "markdown",
      "source": [
        "# Function for Reset password"
      ],
      "metadata": {
        "id": "pyQR06U16gPv"
      }
    },
    {
      "cell_type": "code",
      "source": [
        "def reset_password(email):\n",
        "    password = input(\"Enter a new password: \")\n",
        "    if not is_valid_password(password):\n",
        "        print(\"Invalid password!\")\n",
        "        return\n",
        "    users[email] = password\n",
        "    with open(\"users.txt\", \"w\") as file:\n",
        "        for email, password in users.items():\n",
        "            file.write(f\"{email}:{password}\\n\")\n",
        "    print(\"Password reset successful!\")"
      ],
      "metadata": {
        "id": "axxno1wr0p1f"
      },
      "execution_count": 25,
      "outputs": []
    },
    {
      "cell_type": "markdown",
      "source": [
        "# Function for login"
      ],
      "metadata": {
        "id": "HGJoUvy_6mAU"
      }
    },
    {
      "cell_type": "code",
      "source": [
        "# function to login a user\n",
        "def login():\n",
        "    email = input(\"Enter your email: \")\n",
        "    if not is_valid_email(email):\n",
        "        print(\"Invalid email address!\")\n",
        "        return\n",
        "    if email not in users:\n",
        "        print(\"Email not registered! Please register first.\")\n",
        "        return\n",
        "    password = input(\"Enter your password: \")\n",
        "    if password != users[email]:\n",
        "        choice = input(\"Incorrect password! Do you want to reset your password? (Y/N) \")\n",
        "        if choice.lower() == 'y':\n",
        "            reset_password(email)\n",
        "        if choice.lower()==\"n\":\n",
        "          password=input(\"Enter correct Password again !\")\n",
        "          if not is_valid_password(password):\n",
        "            print(\"Invalid password!\")\n",
        "            return\n",
        "        \n",
        "    else:\n",
        "        print(\"Login successful!\")\n",
        "\n"
      ],
      "metadata": {
        "id": "MPntiJ-Dt-Bz"
      },
      "execution_count": 26,
      "outputs": []
    },
    {
      "cell_type": "code",
      "source": [
        "users = {}\n",
        "with open(\"users.txt\", \"r\") as file:\n",
        "    for line in file:\n",
        "        email, password = line.strip().split(\":\")\n",
        "        users[email] = password"
      ],
      "metadata": {
        "id": "73ias2ft1Nvt"
      },
      "execution_count": 12,
      "outputs": []
    },
    {
      "cell_type": "markdown",
      "source": [
        "# Function for choices"
      ],
      "metadata": {
        "id": "2et762g-6qJH"
      }
    },
    {
      "cell_type": "code",
      "source": [
        "def choices():\n",
        "  print(\"Type 1. Register\\nType 2.Login\\nType 3.Exit\")\n",
        "  choice = int(input(\"Enter your choice: \"))\n",
        "  if choice == 1:\n",
        "    register()\n",
        "  elif choice == 2:\n",
        "    login()\n",
        "  elif choice == 3:\n",
        "    None\n",
        "  else:\n",
        "    print(\"Invalid choice! Please try again.\")\n",
        "    choices()\n",
        "choices()"
      ],
      "metadata": {
        "id": "OEObUOf71NaD"
      },
      "execution_count": null,
      "outputs": []
    }
  ]
}